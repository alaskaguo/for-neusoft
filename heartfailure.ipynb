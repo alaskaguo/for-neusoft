{
 "cells": [
  {
   "cell_type": "code",
   "execution_count": 49,
   "metadata": {},
   "outputs": [],
   "source": [
    "import pandas as pd\n",
    "import numpy as np\n",
    "import os\n",
    "import seaborn as sns\n",
    "from plotnine import *\n",
    "import matplotlib.pyplot as plt\n",
    "import warnings\n",
    "warnings.filterwarnings(\"ignore\")\n",
    "plt.rcParams[\"font.sans-serif\"] = [\"SimHei\"]    ##中文字体\n",
    "plt.rcParams[\"axes.unicode_minus\"] = False      ##负号正常显示\n",
    "sns.set(font = \"SimHei\")"
   ]
  },
  {
   "cell_type": "code",
   "execution_count": 50,
   "metadata": {},
   "outputs": [],
   "source": [
    "## 设定工作路径\n",
    "path = r\"D:\\myresearch\\heartfailure\"\n",
    "os.chdir(path)"
   ]
  },
  {
   "cell_type": "code",
   "execution_count": 51,
   "metadata": {},
   "outputs": [],
   "source": [
    "data_original = pd.read_excel('heart.xlsx',index_col=0,header=2)     ##读取文件，第一列为索引，第三行为列名"
   ]
  },
  {
   "cell_type": "code",
   "execution_count": 52,
   "metadata": {},
   "outputs": [
    {
     "data": {
      "text/plain": [
       "(21144, 30)"
      ]
     },
     "execution_count": 52,
     "metadata": {},
     "output_type": "execute_result"
    }
   ],
   "source": [
    "data_original.shape"
   ]
  },
  {
   "cell_type": "code",
   "execution_count": 53,
   "metadata": {},
   "outputs": [],
   "source": [
    "data_original.dropna(how = \"all\",inplace = True)      ##删除全空行"
   ]
  },
  {
   "cell_type": "code",
   "execution_count": 54,
   "metadata": {},
   "outputs": [],
   "source": [
    "data_original.dropna(how = \"all\",axis = 1,inplace = True)   ##删除全空列"
   ]
  },
  {
   "cell_type": "code",
   "execution_count": 55,
   "metadata": {},
   "outputs": [
    {
     "data": {
      "text/plain": [
       "(21143, 22)"
      ]
     },
     "execution_count": 55,
     "metadata": {},
     "output_type": "execute_result"
    }
   ],
   "source": [
    "data_original.shape"
   ]
  },
  {
   "cell_type": "code",
   "execution_count": 56,
   "metadata": {},
   "outputs": [],
   "source": [
    "data = data_original.replace(regex = {\">|<\":\"\"})     #删除所有大于号和小于号"
   ]
  },
  {
   "cell_type": "code",
   "execution_count": 57,
   "metadata": {},
   "outputs": [],
   "source": [
    "def sub_list(ls,content):\n",
    "    l = []\n",
    "    '''\n",
    "    再列表中查找包含指定字符串的元素，并返回新列表\n",
    "    ls:由字符串构成的列表或array   \n",
    "    content:指定的字符串列表   \n",
    "    '''\n",
    "    for word in ls:\n",
    "        for con in content:\n",
    "            if con in word:\n",
    "                l.append(word)\n",
    "    return l "
   ]
  },
  {
   "cell_type": "code",
   "execution_count": 58,
   "metadata": {},
   "outputs": [],
   "source": [
    "def MinMax(data,list):\n",
    "    '''获取dataset中list列的最大自小值\n",
    "        并打印出来\n",
    "    '''    \n",
    "    for word in list:\n",
    "        no_nan = data[data[word].notnull()]\n",
    "        bottom = no_nan[word].max()\n",
    "        top = no_nan[word].min()\n",
    "        print(word+\"最大：\"+str(bottom)+\",最小\"+str(top))\n",
    "    "
   ]
  },
  {
   "cell_type": "code",
   "execution_count": 59,
   "metadata": {},
   "outputs": [
    {
     "data": {
      "text/plain": [
       "Index(['流水号', '性别', '出生日期', '年龄', '入院日期', '出院日期', '实际住院天数', '离院方式', '出院情况',\n",
       "       '_BNP', '心钠素（脑钠肽）', '超敏肌钙蛋白T', 'HSST0TNT', 'PRO-BNP', '可溶性生长刺激表达基因2蛋白',\n",
       "       '肌钙蛋白I', 'TropI', '贝那普利', '尼可地尔', '诺欣妥', '卡托普利', '依姆多'],\n",
       "      dtype='object')"
      ]
     },
     "execution_count": 59,
     "metadata": {},
     "output_type": "execute_result"
    }
   ],
   "source": [
    "data_original.columns"
   ]
  },
  {
   "cell_type": "code",
   "execution_count": 60,
   "metadata": {},
   "outputs": [],
   "source": [
    "names = ['_BNP', '心钠素（脑钠肽）','超敏肌钙蛋白T','HSST0TNT', 'PRO-BNP','肌钙蛋白I','TropI']"
   ]
  },
  {
   "cell_type": "code",
   "execution_count": 61,
   "metadata": {},
   "outputs": [],
   "source": [
    "data[names] = data[names].astype(\"float\")"
   ]
  },
  {
   "cell_type": "code",
   "execution_count": 62,
   "metadata": {
    "scrolled": true
   },
   "outputs": [
    {
     "name": "stdout",
     "output_type": "stream",
     "text": [
      "_BNP最大：5000.0,最小10.0\n",
      "心钠素（脑钠肽）最大：5000.0,最小10.0\n",
      "超敏肌钙蛋白T最大：10.0,最小0.003\n",
      "HSST0TNT最大：10.0,最小0.003\n",
      "PRO-BNP最大：35000.0,最小5.0\n",
      "肌钙蛋白I最大：85.0,最小0.006\n",
      "TropI最大：103.0,最小0.0\n"
     ]
    }
   ],
   "source": [
    "MinMax(data,names)"
   ]
  },
  {
   "cell_type": "code",
   "execution_count": 63,
   "metadata": {},
   "outputs": [
    {
     "data": {
      "text/plain": [
       "array(['阳性*', '阴性', '弱阳性*'], dtype=object)"
      ]
     },
     "execution_count": 63,
     "metadata": {},
     "output_type": "execute_result"
    }
   ],
   "source": [
    "data[data[\"可溶性生长刺激表达基因2蛋白\"].notnull()][\"可溶性生长刺激表达基因2蛋白\"].unique()   ##查看此列值分布"
   ]
  },
  {
   "cell_type": "code",
   "execution_count": 64,
   "metadata": {},
   "outputs": [],
   "source": [
    "data.to_csv(\"heart1.csv\",encoding=\"utf-8\")   ## 保存文件，可视化后合并同质列"
   ]
  },
  {
   "cell_type": "code",
   "execution_count": 23,
   "metadata": {
    "scrolled": false
   },
   "outputs": [
    {
     "data": {
      "text/plain": [
       "<matplotlib.axes._subplots.AxesSubplot at 0x18fdf4e5630>"
      ]
     },
     "execution_count": 23,
     "metadata": {},
     "output_type": "execute_result"
    },
    {
     "data": {
      "image/png": "[encoded data removed]",
      "text/plain": [
       "<Figure size 504x360 with 2 Axes>"
      ]
     },
     "metadata": {},
     "output_type": "display_data"
    }
   ],
   "source": [
    "f, (ax1,ax2) = plt.subplots(2, 1, figsize=(7, 5), sharex=True)\n",
    "sns.distplot(data[\"HSST0TNT\"],bins =20,ax = ax1)\n",
    "sns.distplot(data[\"超敏肌钙蛋白T\"],bins =20,ax=ax2)"
   ]
  },
  {
   "cell_type": "code",
   "execution_count": 24,
   "metadata": {},
   "outputs": [
    {
     "data": {
      "text/plain": [
       "<matplotlib.axes._subplots.AxesSubplot at 0x18fdf844588>"
      ]
     },
     "execution_count": 24,
     "metadata": {},
     "output_type": "execute_result"
    },
    {
     "data": {
      "image/png": "[encoded data removed]",
      "text/plain": [
       "<Figure size 504x360 with 2 Axes>"
      ]
     },
     "metadata": {},
     "output_type": "display_data"
    }
   ],
   "source": [
    "f, (ax1,ax2) = plt.subplots(2, 1, figsize=(7, 5), sharex=True)\n",
    "sns.distplot(data[\"_BNP\"],bins =20,ax = ax1)\n",
    "sns.distplot(data[\"心钠素（脑钠肽）\"],bins =20,ax=ax2)"
   ]
  },
  {
   "cell_type": "code",
   "execution_count": 25,
   "metadata": {},
   "outputs": [
    {
     "data": {
      "text/plain": [
       "<matplotlib.axes._subplots.AxesSubplot at 0x18fdf92d240>"
      ]
     },
     "execution_count": 25,
     "metadata": {},
     "output_type": "execute_result"
    },
    {
     "data": {
      "image/png": "[encoded data removed]",
      "text/plain": [
       "<Figure size 504x360 with 2 Axes>"
      ]
     },
     "metadata": {},
     "output_type": "display_data"
    }
   ],
   "source": [
    "f, (ax1,ax2) = plt.subplots(2, 1, figsize=(7, 5), sharex=True)\n",
    "sns.distplot(data[\"肌钙蛋白I\"],bins =20,ax = ax1)\n",
    "sns.distplot(data[\"TropI\"],bins =20,ax=ax2)"
   ]
  },
  {
   "cell_type": "code",
   "execution_count": 65,
   "metadata": {},
   "outputs": [],
   "source": [
    "BNP = sub_list(data.columns,[\"_BNP\",\"心钠素（脑钠肽）\"])\n",
    "data['bnp'] = data[BNP].max(axis=1)"
   ]
  },
  {
   "cell_type": "code",
   "execution_count": 66,
   "metadata": {},
   "outputs": [],
   "source": [
    "TNI = sub_list(data.columns,[\"肌钙蛋白I\",\"TropI\"])\n",
    "data['tni'] = data[TNI].max(axis=1)"
   ]
  },
  {
   "cell_type": "code",
   "execution_count": 67,
   "metadata": {},
   "outputs": [],
   "source": [
    "HSTNT = sub_list(data.columns,[\"HSST0TNT\",\"超敏肌钙蛋白T\"])\n",
    "data['hstnt'] = data[HSTNT].max(axis=1)"
   ]
  },
  {
   "cell_type": "code",
   "execution_count": 42,
   "metadata": {},
   "outputs": [
    {
     "data": {
      "text/plain": [
       "Index(['流水号', '性别', '出生日期', '年龄', '入院日期', '出院日期', '实际住院天数', '离院方式', '出院情况',\n",
       "       '_BNP', '心钠素（脑钠肽）', '超敏肌钙蛋白T', 'HSST0TNT', 'PRO-BNP', '可溶性生长刺激表达基因2蛋白',\n",
       "       '肌钙蛋白I', 'TropI', '贝那普利', '尼可地尔', '诺欣妥', '卡托普利', '依姆多', 'bnp', 'hstnt',\n",
       "       'tni'],\n",
       "      dtype='object')"
      ]
     },
     "execution_count": 42,
     "metadata": {},
     "output_type": "execute_result"
    }
   ],
   "source": [
    "data.columns"
   ]
  },
  {
   "cell_type": "code",
   "execution_count": 68,
   "metadata": {},
   "outputs": [],
   "source": [
    "data.drop(BNP+TNI+HSTNT,axis=1,inplace=True)"
   ]
  },
  {
   "cell_type": "code",
   "execution_count": 69,
   "metadata": {},
   "outputs": [],
   "source": [
    "data.to_csv(\"heart2.csv\",encoding=\"utf-8\") "
   ]
  },
  {
   "cell_type": "code",
   "execution_count": 48,
   "metadata": {},
   "outputs": [
    {
     "name": "stdout",
     "output_type": "stream",
     "text": [
      "<class 'pandas.core.frame.DataFrame'>\n",
      "Float64Index: 21143 entries, 1.0 to 21143.0\n",
      "Data columns (total 19 columns):\n",
      "流水号               21143 non-null object\n",
      "性别                21143 non-null object\n",
      "出生日期              21143 non-null object\n",
      "年龄                21143 non-null float64\n",
      "入院日期              21143 non-null object\n",
      "出院日期              21143 non-null object\n",
      "实际住院天数            21143 non-null float64\n",
      "离院方式              20421 non-null object\n",
      "出院情况              19634 non-null object\n",
      "PRO-BNP           13645 non-null float64\n",
      "可溶性生长刺激表达基因2蛋白    190 non-null object\n",
      "贝那普利              21143 non-null object\n",
      "尼可地尔              21143 non-null object\n",
      "诺欣妥               21143 non-null object\n",
      "卡托普利              21143 non-null object\n",
      "依姆多               21143 non-null object\n",
      "bnp               15417 non-null float64\n",
      "hstnt             8536 non-null float64\n",
      "tni               16322 non-null float64\n",
      "dtypes: float64(6), object(13)\n",
      "memory usage: 3.2+ MB\n"
     ]
    }
   ],
   "source": [
    "data.info()"
   ]
  },
  {
   "cell_type": "code",
   "execution_count": 70,
   "metadata": {},
   "outputs": [
    {
     "data": {
      "text/html": [
       "<div>\n",
       "<style scoped>\n",
       "    .dataframe tbody tr th:only-of-type {\n",
       "        vertical-align: middle;\n",
       "    }\n",
       "\n",
       "    .dataframe tbody tr th {\n",
       "        vertical-align: top;\n",
       "    }\n",
       "\n",
       "    .dataframe thead th {\n",
       "        text-align: right;\n",
       "    }\n",
       "</style>\n",
       "<table border=\"1\" class=\"dataframe\">\n",
       "  <thead>\n",
       "    <tr style=\"text-align: right;\">\n",
       "      <th></th>\n",
       "      <th>流水号</th>\n",
       "      <th>性别</th>\n",
       "      <th>出生日期</th>\n",
       "      <th>年龄</th>\n",
       "      <th>入院日期</th>\n",
       "      <th>出院日期</th>\n",
       "      <th>实际住院天数</th>\n",
       "      <th>离院方式</th>\n",
       "      <th>出院情况</th>\n",
       "      <th>PRO-BNP</th>\n",
       "      <th>可溶性生长刺激表达基因2蛋白</th>\n",
       "      <th>贝那普利</th>\n",
       "      <th>尼可地尔</th>\n",
       "      <th>诺欣妥</th>\n",
       "      <th>卡托普利</th>\n",
       "      <th>依姆多</th>\n",
       "      <th>bnp</th>\n",
       "      <th>tni</th>\n",
       "      <th>hstnt</th>\n",
       "    </tr>\n",
       "  </thead>\n",
       "  <tbody>\n",
       "    <tr>\n",
       "      <th>1.0</th>\n",
       "      <td>ZY010000777367</td>\n",
       "      <td>男</td>\n",
       "      <td>1919-01-30</td>\n",
       "      <td>92.0</td>\n",
       "      <td>2011-08-24</td>\n",
       "      <td>2011-09-28</td>\n",
       "      <td>35.0</td>\n",
       "      <td>NaN</td>\n",
       "      <td>好转</td>\n",
       "      <td>NaN</td>\n",
       "      <td>NaN</td>\n",
       "      <td>否</td>\n",
       "      <td>否</td>\n",
       "      <td>否</td>\n",
       "      <td>否</td>\n",
       "      <td>否</td>\n",
       "      <td>NaN</td>\n",
       "      <td>NaN</td>\n",
       "      <td>NaN</td>\n",
       "    </tr>\n",
       "    <tr>\n",
       "      <th>2.0</th>\n",
       "      <td>ZY010000778709</td>\n",
       "      <td>男</td>\n",
       "      <td>1928-07-03</td>\n",
       "      <td>83.0</td>\n",
       "      <td>2011-08-29</td>\n",
       "      <td>2011-10-10</td>\n",
       "      <td>42.0</td>\n",
       "      <td>NaN</td>\n",
       "      <td>好转</td>\n",
       "      <td>NaN</td>\n",
       "      <td>NaN</td>\n",
       "      <td>是</td>\n",
       "      <td>否</td>\n",
       "      <td>否</td>\n",
       "      <td>否</td>\n",
       "      <td>是</td>\n",
       "      <td>NaN</td>\n",
       "      <td>NaN</td>\n",
       "      <td>NaN</td>\n",
       "    </tr>\n",
       "    <tr>\n",
       "      <th>3.0</th>\n",
       "      <td>ZY010000779138</td>\n",
       "      <td>女</td>\n",
       "      <td>1932-10-08</td>\n",
       "      <td>79.0</td>\n",
       "      <td>2011-08-29</td>\n",
       "      <td>2011-09-20</td>\n",
       "      <td>21.0</td>\n",
       "      <td>NaN</td>\n",
       "      <td>好转</td>\n",
       "      <td>NaN</td>\n",
       "      <td>NaN</td>\n",
       "      <td>是</td>\n",
       "      <td>否</td>\n",
       "      <td>否</td>\n",
       "      <td>否</td>\n",
       "      <td>是</td>\n",
       "      <td>NaN</td>\n",
       "      <td>NaN</td>\n",
       "      <td>NaN</td>\n",
       "    </tr>\n",
       "    <tr>\n",
       "      <th>4.0</th>\n",
       "      <td>ZY010000779277</td>\n",
       "      <td>女</td>\n",
       "      <td>1932-03-10</td>\n",
       "      <td>79.0</td>\n",
       "      <td>2011-08-30</td>\n",
       "      <td>2011-09-20</td>\n",
       "      <td>21.0</td>\n",
       "      <td>NaN</td>\n",
       "      <td>好转</td>\n",
       "      <td>NaN</td>\n",
       "      <td>NaN</td>\n",
       "      <td>是</td>\n",
       "      <td>否</td>\n",
       "      <td>否</td>\n",
       "      <td>否</td>\n",
       "      <td>否</td>\n",
       "      <td>NaN</td>\n",
       "      <td>NaN</td>\n",
       "      <td>NaN</td>\n",
       "    </tr>\n",
       "    <tr>\n",
       "      <th>5.0</th>\n",
       "      <td>ZY010000781822</td>\n",
       "      <td>男</td>\n",
       "      <td>1924-12-13</td>\n",
       "      <td>86.0</td>\n",
       "      <td>2011-09-06</td>\n",
       "      <td>2011-10-13</td>\n",
       "      <td>37.0</td>\n",
       "      <td>NaN</td>\n",
       "      <td>好转</td>\n",
       "      <td>NaN</td>\n",
       "      <td>NaN</td>\n",
       "      <td>否</td>\n",
       "      <td>否</td>\n",
       "      <td>否</td>\n",
       "      <td>否</td>\n",
       "      <td>是</td>\n",
       "      <td>NaN</td>\n",
       "      <td>NaN</td>\n",
       "      <td>NaN</td>\n",
       "    </tr>\n",
       "  </tbody>\n",
       "</table>\n",
       "</div>"
      ],
      "text/plain": [
       "                流水号 性别        出生日期    年龄        入院日期        出院日期  实际住院天数 离院方式  \\\n",
       "1.0  ZY010000777367  男  1919-01-30  92.0  2011-08-24  2011-09-28    35.0  NaN   \n",
       "2.0  ZY010000778709  男  1928-07-03  83.0  2011-08-29  2011-10-10    42.0  NaN   \n",
       "3.0  ZY010000779138  女  1932-10-08  79.0  2011-08-29  2011-09-20    21.0  NaN   \n",
       "4.0  ZY010000779277  女  1932-03-10  79.0  2011-08-30  2011-09-20    21.0  NaN   \n",
       "5.0  ZY010000781822  男  1924-12-13  86.0  2011-09-06  2011-10-13    37.0  NaN   \n",
       "\n",
       "    出院情况  PRO-BNP 可溶性生长刺激表达基因2蛋白 贝那普利 尼可地尔 诺欣妥 卡托普利 依姆多  bnp  tni  hstnt  \n",
       "1.0   好转      NaN            NaN    否    否   否    否   否  NaN  NaN    NaN  \n",
       "2.0   好转      NaN            NaN    是    否   否    否   是  NaN  NaN    NaN  \n",
       "3.0   好转      NaN            NaN    是    否   否    否   是  NaN  NaN    NaN  \n",
       "4.0   好转      NaN            NaN    是    否   否    否   否  NaN  NaN    NaN  \n",
       "5.0   好转      NaN            NaN    否    否   否    否   是  NaN  NaN    NaN  "
      ]
     },
     "execution_count": 70,
     "metadata": {},
     "output_type": "execute_result"
    }
   ],
   "source": [
    "data.head()"
   ]
  },
  {
   "cell_type": "code",
   "execution_count": null,
   "metadata": {},
   "outputs": [],
   "source": []
  }
 ],
 "metadata": {
  "kernelspec": {
   "display_name": "Python 3",
   "language": "python",
   "name": "python3"
  },
  "language_info": {
   "codemirror_mode": {
    "name": "ipython",
    "version": 3
   },
   "file_extension": ".py",
   "mimetype": "text/x-python",
   "name": "python",
   "nbconvert_exporter": "python",
   "pygments_lexer": "ipython3",
   "version": "3.6.4"
  }
 },
 "nbformat": 4,
 "nbformat_minor": 2
}
